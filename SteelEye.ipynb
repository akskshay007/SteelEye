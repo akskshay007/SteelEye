{
 "cells": [
  {
   "cell_type": "code",
   "execution_count": 1,
   "metadata": {},
   "outputs": [
    {
     "ename": "SyntaxError",
     "evalue": "invalid syntax (<ipython-input-1-eea5a717e6d1>, line 1)",
     "output_type": "error",
     "traceback": [
      "\u001b[1;36m  File \u001b[1;32m\"<ipython-input-1-eea5a717e6d1>\"\u001b[1;36m, line \u001b[1;32m1\u001b[0m\n\u001b[1;33m    Prepare a data set using the foll. 2 files\u001b[0m\n\u001b[1;37m            ^\u001b[0m\n\u001b[1;31mSyntaxError\u001b[0m\u001b[1;31m:\u001b[0m invalid syntax\n"
     ]
    }
   ],
   "source": [
    "Prepare a data set using the foll. 2 files\n",
    "http://api.nobelprize.org/v1/laureate.json\n",
    "http://api.nobelprize.org/v1/country.json\n",
    "\n",
    "The first file contains information about Nobel prize winners, while the second file is\n",
    "a lookup file for the country.\n",
    "\n",
    "Read the files in, inspect them, and then perform the following tasks.\n",
    "\n",
    "Note: In file 1, the 'prizes' field contains info about individual prizes\n",
    "Write an output CSV file containing the foll columns:\n",
    "1. id\n",
    "2. name (firstname + ' ' + surname). If it is an org, firstname is the org name and surname is null\n",
    "   (field doesn't exist in the json). Handle this case.\n",
    "3. dob (from field 'born')\n",
    "4. unique_prize_years (concat all unique years in the 'prizes' field using ;)\n",
    "5. unique_prize_categories (concat all unique categories in the 'prizes' field using ;)\n",
    "6. gender\n",
    "7. Use the bornCountryCode field to do a lookup on another file\n",
    "    \n",
    "http://api.nobelprize.org/v1/country.json. Read this file in the same way as file 1\n",
    "and do a lookup based on country code and get the country name. Note: the root element\n",
    "is called 'countries' If there are multiple countries\n",
    "with the same symbol, just take any of them.\n",
    "Remember to handle nulls for all fields in a suitable way.\n",
    "\n",
    "Use any libraries you like. But make sure the code is modularised, uses suitable logging,\n",
    "exception handling, coding style, formatting, docstrings, comments. Imagine that you're\n",
    "writing code that will go to production.\n",
    "Percentage of requirements satisfied\n",
    "\n",
    "How clean the code is - in particular simplicity, adhering to python code style conventions and error handling\n",
    "\n",
    "Should follow PEP 8 guidelines\n",
    "\n",
    "We expect pydoc for each class and function with optional type hints(nice to have)\n",
    "\n",
    "Should follow standard logging (no print statements). Logs are essential part of troubleshooting application.\n",
    "\n",
    "Some unit tests(bonus not mandatory)\n",
    "\n"
   ]
  },
  {
   "cell_type": "code",
   "execution_count": 31,
   "metadata": {},
   "outputs": [],
   "source": [
    "#imports\n",
    "\n",
    "import pandas as pd\n",
    "from urllib.request import urlopen\n",
    "import requests  \n",
    "import json"
   ]
  },
  {
   "cell_type": "code",
   "execution_count": 45,
   "metadata": {},
   "outputs": [],
   "source": [
    "def getNames(response):\n",
    "    \"\"\"\n",
    "    Extract names from response object in below format:\n",
    "    if surname present: firstname+' '+surname \n",
    "    if surname not present: firstname+ ' '+ Null\n",
    "    \n",
    "    Args:\n",
    "        param1 : list of dictionaries\n",
    "\n",
    "    Returns:\n",
    "        list: list of correctly concatenated names.\n",
    "    \"\"\"\n",
    "    names = []\n",
    "    for list_ in response['laureates']:\n",
    "        tmp = list_.get('firstname',\"\")+\" \"+ d.get('surname',\"\")\n",
    "        names.append(tmp)\n",
    "    return names\n",
    "\n",
    "def getUniquePrizeYears(response):\n",
    "    \"\"\"\n",
    "    Extract unique prize years from response object.\n",
    "    Args:\n",
    "        param1 : list of dictionaries\n",
    "\n",
    "    Returns:\n",
    "        list: list of unique prize years.\n",
    "    \"\"\"\n",
    "    unique_prize_years = []\n",
    "\n",
    "    for list_ in response['laureates']:\n",
    "        years = set()\n",
    "        prizes = list_.get('prizes','')\n",
    "        for prize in prizes:\n",
    "            years.add(prize['year'])\n",
    "        unique_prize_years.append(\";\".join(years))\n",
    "    return unique_prize_years\n",
    "\n",
    "def getUniquePrizeCategories(response):\n",
    "    \"\"\"\n",
    "    Extract unique prize categories from response object.\n",
    "    Args:\n",
    "        param1 : list of dictionaries\n",
    "\n",
    "    Returns:\n",
    "        list: list of unique prize categories.\n",
    "    \"\"\"\n",
    "    unique_prize_categories = []\n",
    "    for list_ in response['laureates']:\n",
    "        category = set()\n",
    "        prizes = list_.get('prizes','')\n",
    "        for prize in prizes:\n",
    "            category.add(prize['category'])\n",
    "        unique_prize_categories.append(\";\".join(category))\n",
    "    return unique_prize_categories\n",
    "\n",
    "def createOutput(response, names, unique_prize_years, unique_prize_categories):\n",
    "    \"\"\"\n",
    "    Create output CSV file.\n",
    "    Args:\n",
    "        param1 : list of dictionaries\n",
    "        param2 : list of names\n",
    "        param3 : list of unique prize years\n",
    "        param4 : list of unique prize categories\n",
    "\n",
    "    Returns:\n",
    "        None : create a csv file.\n",
    "    \"\"\"\n",
    "    df = pd.DataFrame()\n",
    "    df['id'] = data['id']\n",
    "    df['name']=names\n",
    "    df['dob'] = data['born']\n",
    "    df['unique_prize_years']= unique_prize_years\n",
    "    df['unique_prize_categories']=unique_prize_categories\n",
    "    df['gender']= data['gender']\n",
    "    \n",
    "    df.to_csv(\"output\")\n",
    "    \n",
    "    return None"
   ]
  },
  {
   "cell_type": "code",
   "execution_count": 36,
   "metadata": {},
   "outputs": [],
   "source": [
    "url = \"http://api.nobelprize.org/v1/laureate.json\"\n",
    "response = requests.get(url).json()"
   ]
  },
  {
   "cell_type": "code",
   "execution_count": 37,
   "metadata": {},
   "outputs": [],
   "source": [
    "names = getNames(response)\n",
    "unique_prize_years = getUniquePrizeYears(response)\n",
    "unique_prize_categories = getUniquePrizeCategories(response)\n"
   ]
  },
  {
   "cell_type": "code",
   "execution_count": 46,
   "metadata": {},
   "outputs": [],
   "source": [
    "createOutput(response, names,unique_prize_years,unique_prize_categories)"
   ]
  },
  {
   "cell_type": "code",
   "execution_count": null,
   "metadata": {},
   "outputs": [],
   "source": []
  },
  {
   "cell_type": "code",
   "execution_count": null,
   "metadata": {},
   "outputs": [],
   "source": []
  },
  {
   "cell_type": "code",
   "execution_count": null,
   "metadata": {},
   "outputs": [],
   "source": []
  }
 ],
 "metadata": {
  "kernelspec": {
   "display_name": "Python 3",
   "language": "python",
   "name": "python3"
  },
  "language_info": {
   "codemirror_mode": {
    "name": "ipython",
    "version": 3
   },
   "file_extension": ".py",
   "mimetype": "text/x-python",
   "name": "python",
   "nbconvert_exporter": "python",
   "pygments_lexer": "ipython3",
   "version": "3.7.3"
  }
 },
 "nbformat": 4,
 "nbformat_minor": 2
}
